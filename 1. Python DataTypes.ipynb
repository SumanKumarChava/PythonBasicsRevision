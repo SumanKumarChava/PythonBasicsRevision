{
 "cells": [
  {
   "cell_type": "markdown",
   "metadata": {},
   "source": [
    "## Data Types, Variables, Variable Assignments, Print Formatting"
   ]
  },
  {
   "cell_type": "code",
   "execution_count": 21,
   "metadata": {},
   "outputs": [
    {
     "name": "stdout",
     "output_type": "stream",
     "text": [
      "3\n",
      "3\n",
      "12\n",
      "1.3333333333333333\n",
      "1\n",
      "8\n",
      "15625\n"
     ]
    }
   ],
   "source": [
    "# This is single line comment\n",
    "\n",
    "'''\n",
    "This is Multiline\n",
    "Comments.\n",
    "'''\n",
    "\n",
    "print(1 + 2)\n",
    "print(5 - 2)\n",
    "print(4*3)\n",
    "print(4/3)\n",
    "print(4%3)\n",
    "print(25//3)\n",
    "print(25**3) #power"
   ]
  },
  {
   "cell_type": "code",
   "execution_count": 23,
   "metadata": {},
   "outputs": [
    {
     "name": "stdout",
     "output_type": "stream",
     "text": [
      "SumanSumanSumanSumanSuman\n"
     ]
    }
   ],
   "source": [
    "print(5 * 'Suman') # print a string 5 times"
   ]
  },
  {
   "cell_type": "code",
   "execution_count": 29,
   "metadata": {},
   "outputs": [
    {
     "name": "stdout",
     "output_type": "stream",
     "text": [
      "<class 'int'>\n",
      "<class 'bool'>\n",
      "<class 'str'>\n"
     ]
    }
   ],
   "source": [
    "#Check Types\n",
    "\n",
    "print(type(1))\n",
    "print(type(True))\n",
    "print(type(\"Hello\"))"
   ]
  },
  {
   "cell_type": "code",
   "execution_count": 31,
   "metadata": {},
   "outputs": [
    {
     "name": "stdout",
     "output_type": "stream",
     "text": [
      "<class 'int'>\n",
      "<class 'float'>\n"
     ]
    }
   ],
   "source": [
    "# Variable Assignment\n",
    "\n",
    "a = 10\n",
    "print(type(a))\n",
    "a = \"Hello\"\n",
    "a = 23.34\n",
    "print(type(a))\n",
    "\n",
    "'''\n",
    "Press Shift + Tab before '(' in the above statement to see details about the function\n",
    "'''"
   ]
  },
  {
   "cell_type": "code",
   "execution_count": 32,
   "metadata": {},
   "outputs": [
    {
     "name": "stdout",
     "output_type": "stream",
     "text": [
      "544.7556\n"
     ]
    }
   ],
   "source": [
    "print(a * a)"
   ]
  },
  {
   "cell_type": "code",
   "execution_count": 37,
   "metadata": {},
   "outputs": [
    {
     "name": "stdout",
     "output_type": "stream",
     "text": [
      "The current time is 01:51:20.317673 and date is 2020-12-29\n"
     ]
    }
   ],
   "source": [
    "# String formatting\n",
    "\n",
    "from datetime import datetime\n",
    "print('The current time is {0} and date is {1}'.format(datetime.now().time(),datetime.now().date()))"
   ]
  },
  {
   "cell_type": "code",
   "execution_count": 39,
   "metadata": {},
   "outputs": [
    {
     "data": {
      "text/plain": [
       "5"
      ]
     },
     "execution_count": 39,
     "metadata": {},
     "output_type": "execute_result"
    }
   ],
   "source": [
    "len(\"Suman\") # to find the length of string"
   ]
  }
 ],
 "metadata": {
  "kernelspec": {
   "display_name": "Python 3",
   "language": "python",
   "name": "python3"
  },
  "language_info": {
   "codemirror_mode": {
    "name": "ipython",
    "version": 3
   },
   "file_extension": ".py",
   "mimetype": "text/x-python",
   "name": "python",
   "nbconvert_exporter": "python",
   "pygments_lexer": "ipython3",
   "version": "3.7.4"
  }
 },
 "nbformat": 4,
 "nbformat_minor": 2
}
